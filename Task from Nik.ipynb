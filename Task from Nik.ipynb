{
 "cells": [
  {
   "cell_type": "code",
   "execution_count": null,
   "metadata": {},
   "outputs": [],
   "source": [
    "#Question: Write a Python function that takes a string as input and checks if it is a palindrome \n",
    "\n",
    "def palindrome():\n",
    "    word=input(\"Enter a word: \")\n",
    "    \n",
    "    for p in range(len(word)):\n",
    "        if word[p] == word[p+1*-1]:\n",
    "            print(f\"{word} is a palindrome.\")\n",
    "            break\n",
    "        else:\n",
    "            print(f\" {word} is not a palindrome.\")\n",
    "            break\n",
    "palindrome()\n"
   ]
  },
  {
   "cell_type": "code",
   "execution_count": null,
   "metadata": {},
   "outputs": [],
   "source": [
    "#Question: Write a Python function that takes a string as input and returns the count of each character in the string as a dictionary.\n",
    "\n",
    "def lettercount():\n",
    "    \n",
    "    dictionary=dict()\n",
    "    word=input(\"Enter a word: \")\n",
    "    \n",
    "    for line in word:\n",
    "        line=line.lower()\n",
    "        word=line.split(\" \")\n",
    "        \n",
    "        for w in word:\n",
    "            if w in dictionary:\n",
    "                dictionary[w]=dictionary[w]+1\n",
    "            else:\n",
    "                dictionary[w]=1\n",
    "                \n",
    "    for key in list(dictionary.keys()):\n",
    "        print(key, \":\", dictionary[key])\n",
    "    \n",
    "lettercount()\n",
    "\n"
   ]
  },
  {
   "cell_type": "code",
   "execution_count": null,
   "metadata": {},
   "outputs": [],
   "source": [
    "#Question: Write a Python function that takes a list of integers as input and returns the sum of all the even numbers in the list\n",
    "\n",
    "def even_number():\n",
    "    totalnumber=0\n",
    "    user_input=input(\"Enter a list of integers separated by space: \").split()\n",
    "    \n",
    "    for number in user_input:\n",
    "        number=int(number)\n",
    "        if number % 2 == 0:\n",
    "            totalnumber += number\n",
    "    print(f\"The total of all the even numbers is {totalnumber}\")\n",
    "            \n",
    "even_number()"
   ]
  },
  {
   "cell_type": "code",
   "execution_count": null,
   "metadata": {},
   "outputs": [],
   "source": [
    "#Question: Write a Python function that takes a list of strings as input and returns a new list containing only the strings with a length greater than or equal to a given threshold.\n",
    "\n",
    "def threshold():\n",
    "    list_output=[]\n",
    "    user_input=input(\"Enter a list of strings separated by space: \").split()\n",
    "    threshold=int(input(\"Treshold: \"))\n",
    "    for length in user_input:\n",
    "        if len(length) >= threshold:\n",
    "            list_output.append(length)\n",
    "\n",
    "    print(list_output)\n",
    "    \n",
    "threshold()\n",
    "        \n",
    "        "
   ]
  },
  {
   "cell_type": "code",
   "execution_count": null,
   "metadata": {},
   "outputs": [],
   "source": [
    "#Question: Write a Python function that takes a list of numbers as input and returns a new list containing only the prime numbers from the original list.\n",
    "\n",
    "def prime_number():\n",
    "    \n",
    "    list_output=[]\n",
    "    user_input=input(\"Enter a list of integers separated by space: \").split()\n",
    "    for prime in user_input:\n",
    "        prime=int(prime)\n",
    "        if prime == 2:\n",
    "            list_output.append(prime)\n",
    "            \n",
    "        elif prime > 1:\n",
    "            for p in range (2,prime):\n",
    "                if (prime % p) == 0:\n",
    "                    break\n",
    "                else:\n",
    "                    list_output.append(prime)\n",
    "                    break\n",
    "    print(list_output)\n",
    "prime_number()"
   ]
  }
 ],
 "metadata": {
  "language_info": {
   "name": "python"
  },
  "orig_nbformat": 4
 },
 "nbformat": 4,
 "nbformat_minor": 2
}
